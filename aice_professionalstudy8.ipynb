{
  "nbformat": 4,
  "nbformat_minor": 0,
  "metadata": {
    "colab": {
      "provenance": [],
      "authorship_tag": "ABX9TyMl8ooJfNB83MZnX84Mj3aI",
      "include_colab_link": true
    },
    "kernelspec": {
      "name": "python3",
      "display_name": "Python 3"
    },
    "language_info": {
      "name": "python"
    }
  },
  "cells": [
    {
      "cell_type": "markdown",
      "metadata": {
        "id": "view-in-github",
        "colab_type": "text"
      },
      "source": [
        "<a href=\"https://colab.research.google.com/github/pattangeumdduck/HRI_monitoring_system/blob/main/aice_professionalstudy8.ipynb\" target=\"_parent\"><img src=\"https://colab.research.google.com/assets/colab-badge.svg\" alt=\"Open In Colab\"/></a>"
      ]
    },
    {
      "cell_type": "markdown",
      "source": [
        "#텐서플로 이미지 처리 프레임워크\n",
        "- 이미지 데이터 확보 : 본인 소유 사진, 오픈 이미지 데이터 , MS-COCO, PASCAL VOC, Google Open Images, A- hub 등\n",
        "- 이미지 데이터 읽기 : PIL, Tensorflow ,CV2\n",
        "- 이미지 데이터 전처리 : 수많은 이미지를 한번어 처리하기 어려움: 파이프라인 : Dataset 생성, Shuffle, Batch, 사이즈 조절\n",
        "- 이미지 모델링 : 이미지 분류 :DNN /CNN /RNN, 객체 탐지 : Yolo, RCNN, SDD\n",
        "\n",
        "<오픈 이미지 데이터>\n",
        "Tensorflow 오픈 데이터셋 :https://www.tensorflow.org/datasets\n",
        "MS-COCO 데이터셋 : http;//cocodataset.org/#download\n",
        "PASCAL VOC 데이터셋 : http://host.robots.ox.ac.uk/pascal/VOC/voc2012/\n",
        "Google Open Image: https://storage.googleapis.com/openimages/web/index.html\n",
        "\n",
        "<이미지 데이터 읽는법>\n",
        "PIL\n",
        "from PIL import image\n",
        "Image = image.open('dog.jpg')\n",
        "plt.imshow(image)\n",
        "\n",
        "Tensorflow\n",
        "import tensorflow as tf\n",
        "Image = tf.io.read_file('dog.jpg')\n",
        "image = tf.image.decode_image(image)\n",
        "plt.imshow(image)\n",
        "\n",
        "CV2\n",
        "import cv2\n",
        "image = cv.imread('dog.jpg')\n",
        "image = cv2.cvtColor(image, cv2.COLOR_BGR2RGB)\n",
        "plt.imshow(image)"
      ],
      "metadata": {
        "id": "_RMmGpUjprDQ"
      }
    },
    {
      "cell_type": "markdown",
      "source": [
        "#이미지 데이터 전처리\n",
        "#딥러닝에서 이미지 처리 순서\n",
        "- 이미지를 읽어 메모리 로드\n",
        "- 이미지들을 Shuffle\n",
        "- 한번에 처리할 batch 크기로 이미지 나누기\n",
        "- 파이프라인 :Dataset -> Shuffle -> Batch -> chche ->prefetch (한번에 처리할 수 있게 만들어줌)\n",
        "->데이터 읽고,배치사이즈로 섞고 나누고, Prefetch등 함수 제공\n",
        "train_dataset = tf.data.Dataset.from_tensor_slices((train_data, train_labels))\n",
        "train_dataset = train_dataset.shuffle(1000).batch(16).cache().prefetch()\n",
        "\n",
        "-필요시 이미지 증강 처리 : 모델 성능 높이기 위해(resize, flip)\n",
        "image = tf.image.resize(image, [IMG_SIZE, IMG_SIZE])\n",
        "image = tf.image.flip_left_right(image)\n",
        "\n",
        "이미지 모델링\n",
        "- 이미지 분류 DNN,CNN,RNN\n",
        "- 객체 탐지 : Yolo, RCNN, SDD"
      ],
      "metadata": {
        "id": "IfuxaiWJtJf_"
      }
    },
    {
      "cell_type": "markdown",
      "source": [
        "#Dataset_from_tensor_slices 이용하여 입력 파이프라인 구축\n",
        "- 이미지 처리하려고 하면 이미지 읽어오기, 이미지 섞기, 배치 사이즈로 나누기 등 굉장히 많은 일들이 있음.\n",
        "- 일일히 이런 일들을 코딩해서 처리하려면 굉장히 많ㅇ느 시간과 노력이 필요함\n",
        "- tensorflow 의 Dataset 활용해서 Dataset Pipeline (이미지 읽기, 섞기 ,배치) 를 만들자\n",
        "- 이미 고수준 API 만들어져 있으므로 , 이들을 잘 불러와서 활용할 줄 알면 됨\n",
        "\n",
        "#목표 : 이미지 dataSet pipeline 사용해보기\n",
        "1. MNIST 데이터를 from_tensor_slices 사용해 Dataset으로 읽어오기(단, from_tensor_ slices 는 메모리에 있는 데이터만을 읽어올 수 있다.)\n",
        "2. Dataset 에 대해 전처리, 미니배치, 랜덤셔플링의 데이터 파이프라인을 사용해 전처리 완료된 데이터셋 만들기\n",
        "3. 이미지 처리 위한 파이프라인 만들기\n",
        "4. 만든 Dataset에서 샘플 데이터 가져오기\n",
        "5. DNN 모델 만들고 학습하기\n",
        "\n"
      ],
      "metadata": {
        "id": "zHyc4nMtl7dc"
      }
    },
    {
      "cell_type": "code",
      "execution_count": 1,
      "metadata": {
        "id": "fiSelpQIoW2B"
      },
      "outputs": [],
      "source": [
        "# import necessory libraries\n",
        "import tensorflow as tf\n",
        "import numpy as np\n",
        "import pandas as pd\n",
        "import matplotlib.pyplot as plt"
      ]
    },
    {
      "cell_type": "code",
      "source": [
        "#mnist 데이터 메모리로 가져오기\n",
        "\n",
        "mnist = tf.keras.datasets.mnist\n",
        "(x_train, y_train), (x_test, y_test) = mnist.load_data()\n",
        "x_train, x_test = x_train / 255.0 , x_test / 255.0"
      ],
      "metadata": {
        "colab": {
          "base_uri": "https://localhost:8080/"
        },
        "id": "tCVoX3MYERQo",
        "outputId": "47fb96b1-ae76-44ff-bb26-55abff75e548"
      },
      "execution_count": 2,
      "outputs": [
        {
          "output_type": "stream",
          "name": "stdout",
          "text": [
            "Downloading data from https://storage.googleapis.com/tensorflow/tf-keras-datasets/mnist.npz\n",
            "\u001b[1m11490434/11490434\u001b[0m \u001b[32m━━━━━━━━━━━━━━━━━━━━\u001b[0m\u001b[37m\u001b[0m \u001b[1m0s\u001b[0m 0us/step\n"
          ]
        }
      ]
    },
    {
      "cell_type": "code",
      "source": [
        "print(\"The shape of train dataset:\", x_train.shape)\n",
        "print(\"The shape of test dataset :\", x_test.shape)"
      ],
      "metadata": {
        "colab": {
          "base_uri": "https://localhost:8080/"
        },
        "id": "-WMcK0H_EsYn",
        "outputId": "83e98de6-d4d4-43a9-daba-4fd964a0222b"
      },
      "execution_count": 3,
      "outputs": [
        {
          "output_type": "stream",
          "name": "stdout",
          "text": [
            "The shape of train dataset: (60000, 28, 28)\n",
            "The shape of test dataset : (10000, 28, 28)\n"
          ]
        }
      ]
    },
    {
      "cell_type": "code",
      "source": [
        "# x_train 첫 번째 이미지 확인하기\n",
        "plt.imshow(x_train[0])"
      ],
      "metadata": {
        "colab": {
          "base_uri": "https://localhost:8080/",
          "height": 448
        },
        "id": "w-86E6bsE9lu",
        "outputId": "c9d38dca-1fbe-4bba-ba0d-19ed4b55eb16"
      },
      "execution_count": 4,
      "outputs": [
        {
          "output_type": "execute_result",
          "data": {
            "text/plain": [
              "<matplotlib.image.AxesImage at 0x7b38fc62dd10>"
            ]
          },
          "metadata": {},
          "execution_count": 4
        },
        {
          "output_type": "display_data",
          "data": {
            "text/plain": [
              "<Figure size 640x480 with 1 Axes>"
            ],
            "image/png": "[encoded data removed]"
          },
          "metadata": {}
        }
      ]
    },
    {
      "cell_type": "code",
      "source": [
        "# x_train 두 번쨰 이미지 확인하기\n",
        "plt.imshow(x_train[1])"
      ],
      "metadata": {
        "colab": {
          "base_uri": "https://localhost:8080/",
          "height": 448
        },
        "id": "1ZomoUBiFF4L",
        "outputId": "31d92d7e-d83b-4d64-bf3a-a0e3b60bbc35"
      },
      "execution_count": 5,
      "outputs": [
        {
          "output_type": "execute_result",
          "data": {
            "text/plain": [
              "<matplotlib.image.AxesImage at 0x7b38fd3c05d0>"
            ]
          },
          "metadata": {},
          "execution_count": 5
        },
        {
          "output_type": "display_data",
          "data": {
            "text/plain": [
              "<Figure size 640x480 with 1 Axes>"
            ],
            "image/png": "[encoded data removed]"
          },
          "metadata": {}
        }
      ]
    },
    {
      "cell_type": "code",
      "source": [
        "# Add a channels dimension . 이미지 사이즈로 만들어 줌. 원래 이미지는 Height * Width * Channel 3차원으로 구성됨 -> 채널을 하나 새로 만들어줌\n",
        "# x_train.reshape(-1,28,28,1)으로 사용해도 된다.\n",
        "\n",
        "x_train = x_train[..., tf.newaxis] #새 축(채널) 을 하나 더 만들어줬음\n",
        "x_test = x_test[ ... , tf.newaxis]\n",
        "\n",
        "print(\"The shape of train dataset :\", x_train.shape)\n",
        "print(\"The shape of test dataset : \", x_test.shape)"
      ],
      "metadata": {
        "colab": {
          "base_uri": "https://localhost:8080/"
        },
        "id": "a6vPvFq6FY9b",
        "outputId": "54fd7b1c-53b4-45c7-a68c-5babb54c0440"
      },
      "execution_count": 8,
      "outputs": [
        {
          "output_type": "stream",
          "name": "stdout",
          "text": [
            "The shape of train dataset : (60000, 28, 28, 1, 1, 1)\n",
            "The shape of test dataset :  (10000, 28, 28, 1, 1, 1)\n"
          ]
        }
      ]
    },
    {
      "cell_type": "markdown",
      "source": [
        "#이미지 처리를 위한 파이프라인 만들기\n",
        "- from_tensor_slices :입력맏기\n",
        "- shuffle\n",
        "- batch\n",
        "- cahce(데이터 일부를 캐시메모리에 저장할 수 있도록 함)\n",
        "- prefetch(모델이 s번째 데이터를 읽는 동안, s+1번째 데이터를 준비)"
      ],
      "metadata": {
        "id": "aiKJpIleGi_V"
      }
    },
    {
      "cell_type": "code",
      "source": [
        "#파이프라인 구성\n",
        "AUTOTUNE = tf.data.experimental.AUTOTUNE  #병렬로 알아서 처리해서 써라라는 뜻\n",
        "\n",
        "#train dataset\n",
        "train_ds = tf.data.Dataset.from_tensor_slices((x_train, y_train)) #여러개 입력시 튜플로 입력할것, 입력 받는 부분\n",
        "train_ds = train_ds.shuffle(1000)\n",
        "train_ds = train_ds.batch(32)\n",
        "train_ds = train_ds.cache()\n",
        "train_ds = train_ds.prefetch(AUTOTUNE) #미리 준비할 수 있게끔 프리패치까지 적용\n",
        "\n",
        "#test dataset: shuffle이 필요하진 않음\n",
        "test_ds = tf.data.Dataset.from_tensor_slices((x_test, y_test))\n",
        "test_ds = test_ds.batch(32)\n",
        "test_ds = test_ds.prefetch(AUTOTUNE)\n"
      ],
      "metadata": {
        "id": "yUenzTOsGUWH"
      },
      "execution_count": 9,
      "outputs": []
    },
    {
      "cell_type": "code",
      "source": [
        "#만든 Dataset에서 샘플 가져오기\n",
        "# Train 데이터셋 확인\n",
        "# (None, 28, 28, 1), (None, ) 2개의 값으로 구성됨\n",
        "train_ds"
      ],
      "metadata": {
        "colab": {
          "base_uri": "https://localhost:8080/"
        },
        "id": "hU-nPx1EHiZG",
        "outputId": "28dbee27-4635-457f-b522-39b83c297d65"
      },
      "execution_count": 10,
      "outputs": [
        {
          "output_type": "execute_result",
          "data": {
            "text/plain": [
              "<_PrefetchDataset element_spec=(TensorSpec(shape=(None, 28, 28, 1, 1, 1), dtype=tf.float64, name=None), TensorSpec(shape=(None,), dtype=tf.uint8, name=None))>"
            ]
          },
          "metadata": {},
          "execution_count": 10
        }
      ]
    },
    {
      "cell_type": "code",
      "source": [
        "#iter , next 통해서 샘플 데이터 가져오기\n",
        "x_train_sample, y_train_sample = next(iter(train_ds))"
      ],
      "metadata": {
        "id": "aQXAU3gVHuqi"
      },
      "execution_count": 11,
      "outputs": []
    },
    {
      "cell_type": "code",
      "source": [
        "#가죠온 1개 샘플데이터에 대한 shape 확인\n",
        "#첫 번쨰 샘플은 1개의 batch 로 32개 이미지 구성됨\n",
        "#두 번째 샘플은 32개의 label로 구성\n",
        "print(type(x_train_sample), type(y_train_sample ))\n",
        "#가져온 첫 번째 샘플이미지 확인\n",
        "plt.imshow(x_train_sample[0])"
      ],
      "metadata": {
        "colab": {
          "base_uri": "https://localhost:8080/",
          "height": 773
        },
        "id": "wcyb9sHNIS6t",
        "outputId": "583676bb-ea69-4938-b6a6-0451283fcb5e"
      },
      "execution_count": 13,
      "outputs": [
        {
          "output_type": "stream",
          "name": "stdout",
          "text": [
            "<class 'tensorflow.python.framework.ops.EagerTensor'> <class 'tensorflow.python.framework.ops.EagerTensor'>\n"
          ]
        },
        {
          "output_type": "error",
          "ename": "TypeError",
          "evalue": "Invalid shape (28, 28, 1, 1, 1) for image data",
          "traceback": [
            "\u001b[0;31m---------------------------------------------------------------------------\u001b[0m",
            "\u001b[0;31mTypeError\u001b[0m                                 Traceback (most recent call last)",
            "\u001b[0;32m<ipython-input-13-65962442>\u001b[0m in \u001b[0;36m<cell line: 0>\u001b[0;34m()\u001b[0m\n\u001b[1;32m      4\u001b[0m \u001b[0mprint\u001b[0m\u001b[0;34m(\u001b[0m\u001b[0mtype\u001b[0m\u001b[0;34m(\u001b[0m\u001b[0mx_train_sample\u001b[0m\u001b[0;34m)\u001b[0m\u001b[0;34m,\u001b[0m \u001b[0mtype\u001b[0m\u001b[0;34m(\u001b[0m\u001b[0my_train_sample\u001b[0m \u001b[0;34m)\u001b[0m\u001b[0;34m)\u001b[0m\u001b[0;34m\u001b[0m\u001b[0;34m\u001b[0m\u001b[0m\n\u001b[1;32m      5\u001b[0m \u001b[0;31m#가져온 첫 번째 샘플이미지 확인\u001b[0m\u001b[0;34m\u001b[0m\u001b[0;34m\u001b[0m\u001b[0m\n\u001b[0;32m----> 6\u001b[0;31m \u001b[0mplt\u001b[0m\u001b[0;34m.\u001b[0m\u001b[0mimshow\u001b[0m\u001b[0;34m(\u001b[0m\u001b[0mx_train_sample\u001b[0m\u001b[0;34m[\u001b[0m\u001b[0;36m0\u001b[0m\u001b[0;34m]\u001b[0m\u001b[0;34m)\u001b[0m\u001b[0;34m\u001b[0m\u001b[0;34m\u001b[0m\u001b[0m\n\u001b[0m",
            "\u001b[0;32m/usr/local/lib/python3.11/dist-packages/matplotlib/pyplot.py\u001b[0m in \u001b[0;36mimshow\u001b[0;34m(X, cmap, norm, aspect, interpolation, alpha, vmin, vmax, colorizer, origin, extent, interpolation_stage, filternorm, filterrad, resample, url, data, **kwargs)\u001b[0m\n\u001b[1;32m   3590\u001b[0m     \u001b[0;34m**\u001b[0m\u001b[0mkwargs\u001b[0m\u001b[0;34m,\u001b[0m\u001b[0;34m\u001b[0m\u001b[0;34m\u001b[0m\u001b[0m\n\u001b[1;32m   3591\u001b[0m ) -> AxesImage:\n\u001b[0;32m-> 3592\u001b[0;31m     __ret = gca().imshow(\n\u001b[0m\u001b[1;32m   3593\u001b[0m         \u001b[0mX\u001b[0m\u001b[0;34m,\u001b[0m\u001b[0;34m\u001b[0m\u001b[0;34m\u001b[0m\u001b[0m\n\u001b[1;32m   3594\u001b[0m         \u001b[0mcmap\u001b[0m\u001b[0;34m=\u001b[0m\u001b[0mcmap\u001b[0m\u001b[0;34m,\u001b[0m\u001b[0;34m\u001b[0m\u001b[0;34m\u001b[0m\u001b[0m\n",
            "\u001b[0;32m/usr/local/lib/python3.11/dist-packages/matplotlib/__init__.py\u001b[0m in \u001b[0;36minner\u001b[0;34m(ax, data, *args, **kwargs)\u001b[0m\n\u001b[1;32m   1519\u001b[0m     \u001b[0;32mdef\u001b[0m \u001b[0minner\u001b[0m\u001b[0;34m(\u001b[0m\u001b[0max\u001b[0m\u001b[0;34m,\u001b[0m \u001b[0;34m*\u001b[0m\u001b[0margs\u001b[0m\u001b[0;34m,\u001b[0m \u001b[0mdata\u001b[0m\u001b[0;34m=\u001b[0m\u001b[0;32mNone\u001b[0m\u001b[0;34m,\u001b[0m \u001b[0;34m**\u001b[0m\u001b[0mkwargs\u001b[0m\u001b[0;34m)\u001b[0m\u001b[0;34m:\u001b[0m\u001b[0;34m\u001b[0m\u001b[0;34m\u001b[0m\u001b[0m\n\u001b[1;32m   1520\u001b[0m         \u001b[0;32mif\u001b[0m \u001b[0mdata\u001b[0m \u001b[0;32mis\u001b[0m \u001b[0;32mNone\u001b[0m\u001b[0;34m:\u001b[0m\u001b[0;34m\u001b[0m\u001b[0;34m\u001b[0m\u001b[0m\n\u001b[0;32m-> 1521\u001b[0;31m             return func(\n\u001b[0m\u001b[1;32m   1522\u001b[0m                 \u001b[0max\u001b[0m\u001b[0;34m,\u001b[0m\u001b[0;34m\u001b[0m\u001b[0;34m\u001b[0m\u001b[0m\n\u001b[1;32m   1523\u001b[0m                 \u001b[0;34m*\u001b[0m\u001b[0mmap\u001b[0m\u001b[0;34m(\u001b[0m\u001b[0mcbook\u001b[0m\u001b[0;34m.\u001b[0m\u001b[0msanitize_sequence\u001b[0m\u001b[0;34m,\u001b[0m \u001b[0margs\u001b[0m\u001b[0;34m)\u001b[0m\u001b[0;34m,\u001b[0m\u001b[0;34m\u001b[0m\u001b[0;34m\u001b[0m\u001b[0m\n",
            "\u001b[0;32m/usr/local/lib/python3.11/dist-packages/matplotlib/axes/_axes.py\u001b[0m in \u001b[0;36mimshow\u001b[0;34m(self, X, cmap, norm, aspect, interpolation, alpha, vmin, vmax, colorizer, origin, extent, interpolation_stage, filternorm, filterrad, resample, url, **kwargs)\u001b[0m\n\u001b[1;32m   5943\u001b[0m             \u001b[0mself\u001b[0m\u001b[0;34m.\u001b[0m\u001b[0mset_aspect\u001b[0m\u001b[0;34m(\u001b[0m\u001b[0maspect\u001b[0m\u001b[0;34m)\u001b[0m\u001b[0;34m\u001b[0m\u001b[0;34m\u001b[0m\u001b[0m\n\u001b[1;32m   5944\u001b[0m \u001b[0;34m\u001b[0m\u001b[0m\n\u001b[0;32m-> 5945\u001b[0;31m         \u001b[0mim\u001b[0m\u001b[0;34m.\u001b[0m\u001b[0mset_data\u001b[0m\u001b[0;34m(\u001b[0m\u001b[0mX\u001b[0m\u001b[0;34m)\u001b[0m\u001b[0;34m\u001b[0m\u001b[0;34m\u001b[0m\u001b[0m\n\u001b[0m\u001b[1;32m   5946\u001b[0m         \u001b[0mim\u001b[0m\u001b[0;34m.\u001b[0m\u001b[0mset_alpha\u001b[0m\u001b[0;34m(\u001b[0m\u001b[0malpha\u001b[0m\u001b[0;34m)\u001b[0m\u001b[0;34m\u001b[0m\u001b[0;34m\u001b[0m\u001b[0m\n\u001b[1;32m   5947\u001b[0m         \u001b[0;32mif\u001b[0m \u001b[0mim\u001b[0m\u001b[0;34m.\u001b[0m\u001b[0mget_clip_path\u001b[0m\u001b[0;34m(\u001b[0m\u001b[0;34m)\u001b[0m \u001b[0;32mis\u001b[0m \u001b[0;32mNone\u001b[0m\u001b[0;34m:\u001b[0m\u001b[0;34m\u001b[0m\u001b[0;34m\u001b[0m\u001b[0m\n",
            "\u001b[0;32m/usr/local/lib/python3.11/dist-packages/matplotlib/image.py\u001b[0m in \u001b[0;36mset_data\u001b[0;34m(self, A)\u001b[0m\n\u001b[1;32m    673\u001b[0m         \u001b[0;32mif\u001b[0m \u001b[0misinstance\u001b[0m\u001b[0;34m(\u001b[0m\u001b[0mA\u001b[0m\u001b[0;34m,\u001b[0m \u001b[0mPIL\u001b[0m\u001b[0;34m.\u001b[0m\u001b[0mImage\u001b[0m\u001b[0;34m.\u001b[0m\u001b[0mImage\u001b[0m\u001b[0;34m)\u001b[0m\u001b[0;34m:\u001b[0m\u001b[0;34m\u001b[0m\u001b[0;34m\u001b[0m\u001b[0m\n\u001b[1;32m    674\u001b[0m             \u001b[0mA\u001b[0m \u001b[0;34m=\u001b[0m \u001b[0mpil_to_array\u001b[0m\u001b[0;34m(\u001b[0m\u001b[0mA\u001b[0m\u001b[0;34m)\u001b[0m  \u001b[0;31m# Needed e.g. to apply png palette.\u001b[0m\u001b[0;34m\u001b[0m\u001b[0;34m\u001b[0m\u001b[0m\n\u001b[0;32m--> 675\u001b[0;31m         \u001b[0mself\u001b[0m\u001b[0;34m.\u001b[0m\u001b[0m_A\u001b[0m \u001b[0;34m=\u001b[0m \u001b[0mself\u001b[0m\u001b[0;34m.\u001b[0m\u001b[0m_normalize_image_array\u001b[0m\u001b[0;34m(\u001b[0m\u001b[0mA\u001b[0m\u001b[0;34m)\u001b[0m\u001b[0;34m\u001b[0m\u001b[0;34m\u001b[0m\u001b[0m\n\u001b[0m\u001b[1;32m    676\u001b[0m         \u001b[0mself\u001b[0m\u001b[0;34m.\u001b[0m\u001b[0m_imcache\u001b[0m \u001b[0;34m=\u001b[0m \u001b[0;32mNone\u001b[0m\u001b[0;34m\u001b[0m\u001b[0;34m\u001b[0m\u001b[0m\n\u001b[1;32m    677\u001b[0m         \u001b[0mself\u001b[0m\u001b[0;34m.\u001b[0m\u001b[0mstale\u001b[0m \u001b[0;34m=\u001b[0m \u001b[0;32mTrue\u001b[0m\u001b[0;34m\u001b[0m\u001b[0;34m\u001b[0m\u001b[0m\n",
            "\u001b[0;32m/usr/local/lib/python3.11/dist-packages/matplotlib/image.py\u001b[0m in \u001b[0;36m_normalize_image_array\u001b[0;34m(A)\u001b[0m\n\u001b[1;32m    641\u001b[0m             \u001b[0mA\u001b[0m \u001b[0;34m=\u001b[0m \u001b[0mA\u001b[0m\u001b[0;34m.\u001b[0m\u001b[0msqueeze\u001b[0m\u001b[0;34m(\u001b[0m\u001b[0;34m-\u001b[0m\u001b[0;36m1\u001b[0m\u001b[0;34m)\u001b[0m  \u001b[0;31m# If just (M, N, 1), assume scalar and apply colormap.\u001b[0m\u001b[0;34m\u001b[0m\u001b[0;34m\u001b[0m\u001b[0m\n\u001b[1;32m    642\u001b[0m         \u001b[0;32mif\u001b[0m \u001b[0;32mnot\u001b[0m \u001b[0;34m(\u001b[0m\u001b[0mA\u001b[0m\u001b[0;34m.\u001b[0m\u001b[0mndim\u001b[0m \u001b[0;34m==\u001b[0m \u001b[0;36m2\u001b[0m \u001b[0;32mor\u001b[0m \u001b[0mA\u001b[0m\u001b[0;34m.\u001b[0m\u001b[0mndim\u001b[0m \u001b[0;34m==\u001b[0m \u001b[0;36m3\u001b[0m \u001b[0;32mand\u001b[0m \u001b[0mA\u001b[0m\u001b[0;34m.\u001b[0m\u001b[0mshape\u001b[0m\u001b[0;34m[\u001b[0m\u001b[0;34m-\u001b[0m\u001b[0;36m1\u001b[0m\u001b[0;34m]\u001b[0m \u001b[0;32min\u001b[0m \u001b[0;34m[\u001b[0m\u001b[0;36m3\u001b[0m\u001b[0;34m,\u001b[0m \u001b[0;36m4\u001b[0m\u001b[0;34m]\u001b[0m\u001b[0;34m)\u001b[0m\u001b[0;34m:\u001b[0m\u001b[0;34m\u001b[0m\u001b[0;34m\u001b[0m\u001b[0m\n\u001b[0;32m--> 643\u001b[0;31m             \u001b[0;32mraise\u001b[0m \u001b[0mTypeError\u001b[0m\u001b[0;34m(\u001b[0m\u001b[0;34mf\"Invalid shape {A.shape} for image data\"\u001b[0m\u001b[0;34m)\u001b[0m\u001b[0;34m\u001b[0m\u001b[0;34m\u001b[0m\u001b[0m\n\u001b[0m\u001b[1;32m    644\u001b[0m         \u001b[0;32mif\u001b[0m \u001b[0mA\u001b[0m\u001b[0;34m.\u001b[0m\u001b[0mndim\u001b[0m \u001b[0;34m==\u001b[0m \u001b[0;36m3\u001b[0m\u001b[0;34m:\u001b[0m\u001b[0;34m\u001b[0m\u001b[0;34m\u001b[0m\u001b[0m\n\u001b[1;32m    645\u001b[0m             \u001b[0;31m# If the input data has values outside the valid range (after\u001b[0m\u001b[0;34m\u001b[0m\u001b[0;34m\u001b[0m\u001b[0m\n",
            "\u001b[0;31mTypeError\u001b[0m: Invalid shape (28, 28, 1, 1, 1) for image data"
          ]
        },
        {
          "output_type": "display_data",
          "data": {
            "text/plain": [
              "<Figure size 640x480 with 1 Axes>"
            ],
            "image/png": "[encoded data removed]"
          },
          "metadata": {}
        }
      ]
    },
    {
      "cell_type": "code",
      "source": [
        "#DNN 모델 만들고 학습하기\n",
        "model = tf.keras.models.Sequential([\n",
        "    tf.keras.layers.Flatten(),\n",
        "    tf.keras.layers.Dense(64, activation='relu'),\n",
        "    tf.keras.layers.Dense(10, activation='softmax')\n",
        "])\n",
        "\n",
        "model.compile(optimizer = tf.keras.optimizers.Adam(0.001),\n",
        "              loss = tf.keras.losses.sparse_categorical_crossentropy,\n",
        "              metrics = [tf.keras.metrics.sparse_categorical_accuracy])\n",
        "\n",
        "history = model.fit(train_ds, epochs = 5, batch_size = 32, validation_data = (test_ds))"
      ],
      "metadata": {
        "colab": {
          "base_uri": "https://localhost:8080/"
        },
        "id": "SxxoGFlgI3Jv",
        "outputId": "26b40433-7812-4fa9-d3a5-6e2c934c5f0b"
      },
      "execution_count": 15,
      "outputs": [
        {
          "output_type": "stream",
          "name": "stdout",
          "text": [
            "Epoch 1/5\n",
            "\u001b[1m1875/1875\u001b[0m \u001b[32m━━━━━━━━━━━━━━━━━━━━\u001b[0m\u001b[37m\u001b[0m \u001b[1m12s\u001b[0m 5ms/step - loss: 0.5007 - sparse_categorical_accuracy: 0.8623 - val_loss: 0.1741 - val_sparse_categorical_accuracy: 0.9486\n",
            "Epoch 2/5\n",
            "\u001b[1m1875/1875\u001b[0m \u001b[32m━━━━━━━━━━━━━━━━━━━━\u001b[0m\u001b[37m\u001b[0m \u001b[1m7s\u001b[0m 4ms/step - loss: 0.1605 - sparse_categorical_accuracy: 0.9535 - val_loss: 0.1291 - val_sparse_categorical_accuracy: 0.9611\n",
            "Epoch 3/5\n",
            "\u001b[1m1875/1875\u001b[0m \u001b[32m━━━━━━━━━━━━━━━━━━━━\u001b[0m\u001b[37m\u001b[0m \u001b[1m8s\u001b[0m 4ms/step - loss: 0.1102 - sparse_categorical_accuracy: 0.9672 - val_loss: 0.1155 - val_sparse_categorical_accuracy: 0.9653\n",
            "Epoch 4/5\n",
            "\u001b[1m1875/1875\u001b[0m \u001b[32m━━━━━━━━━━━━━━━━━━━━\u001b[0m\u001b[37m\u001b[0m \u001b[1m10s\u001b[0m 4ms/step - loss: 0.0848 - sparse_categorical_accuracy: 0.9758 - val_loss: 0.1096 - val_sparse_categorical_accuracy: 0.9661\n",
            "Epoch 5/5\n",
            "\u001b[1m1875/1875\u001b[0m \u001b[32m━━━━━━━━━━━━━━━━━━━━\u001b[0m\u001b[37m\u001b[0m \u001b[1m7s\u001b[0m 4ms/step - loss: 0.0692 - sparse_categorical_accuracy: 0.9806 - val_loss: 0.1062 - val_sparse_categorical_accuracy: 0.9679\n"
          ]
        }
      ]
    },
    {
      "cell_type": "code",
      "source": [
        "#모델 평가\n",
        "#모델 평가시 입력 데이터를 x_test, y _test 이런식으로 들어가는데, 우리는 데이터셋을 만들어서 그냥 데이터셋을 넣어 주면 됨\n",
        "model.evaluate(test_ds)"
      ],
      "metadata": {
        "colab": {
          "base_uri": "https://localhost:8080/"
        },
        "id": "_pyz96GINNwa",
        "outputId": "3e67c9a9-9645-4eb9-a451-b7739bb17b01"
      },
      "execution_count": 16,
      "outputs": [
        {
          "output_type": "stream",
          "name": "stdout",
          "text": [
            "\u001b[1m313/313\u001b[0m \u001b[32m━━━━━━━━━━━━━━━━━━━━\u001b[0m\u001b[37m\u001b[0m \u001b[1m1s\u001b[0m 3ms/step - loss: 0.1238 - sparse_categorical_accuracy: 0.9643\n"
          ]
        },
        {
          "output_type": "execute_result",
          "data": {
            "text/plain": [
              "[0.10622461140155792, 0.9678999781608582]"
            ]
          },
          "metadata": {},
          "execution_count": 16
        }
      ]
    },
    {
      "cell_type": "markdown",
      "source": [
        "#배운 내용 정리\n",
        "1. 이미지 dataset pipeline 만들어봄\n",
        "2. from_tensorslices 함수 이용해 필요한 데이터를 Dataset으로 읽어와\n",
        "3. 읽어온 데이터를 파이프라인을 통하여 shuffle,batch, cache, prefetch 된 Dataset을 만들 수 있다.\n",
        "4.외우지 못해도 이런 식으로 사용할 수 있다는 것을 알고 필요할떄 사용하면 좋음."
      ],
      "metadata": {
        "id": "FjEEdpN6Nt2O"
      }
    },
    {
      "cell_type": "code",
      "source": [],
      "metadata": {
        "id": "_X7-Oam8NtS9"
      },
      "execution_count": null,
      "outputs": []
    }
  ]
}